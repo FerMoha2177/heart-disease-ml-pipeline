{
 "cells": [
  {
   "cell_type": "code",
   "execution_count": null,
   "id": "5e8e6db5",
   "metadata": {},
   "outputs": [],
   "source": [
    "import sys\n",
    "import pandas as pd\n",
    "import numpy as np\n",
    "\n",
    "# Quick setup\n",
    "from src.utils.notebook_setup import setup_notebook_environment\n",
    "dbs, logger = await setup_notebook_environment()\n",
    "\n",
    "# Now ready to work\n",
    "logger.info(\"Starting model training...\")"
   ]
  }
 ],
 "metadata": {
  "language_info": {
   "name": "python"
  }
 },
 "nbformat": 4,
 "nbformat_minor": 5
}
