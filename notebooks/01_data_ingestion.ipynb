{
 "cells": [
  {
   "cell_type": "code",
   "execution_count": 1,
   "id": "ea7535dd",
   "metadata": {},
   "outputs": [
    {
     "name": "stderr",
     "output_type": "stream",
     "text": [
      "2025-07-25 18:27:48,998 - api.services.database_service - INFO - Connected to MongoDB database: healthcare\n",
      "2025-07-25 18:27:49,003 - src.utils.notebook_setup - INFO - Database connected: True\n",
      "2025-07-25 18:27:49,004 - src.utils.notebook_setup - INFO - Database collections: ['heart_disease_silver', 'heart_disease_bronze', 'heart_disease_gold']\n",
      "2025-07-25 18:27:49,005 - src.utils.notebook_setup - INFO - Database collections count: 3\n",
      "2025-07-25 18:27:49,006 - src.utils.notebook_setup - INFO - Starting data ingestion...\n"
     ]
    }
   ],
   "source": [
    "# Quick setup\n",
    "import sys\n",
    "import pandas as pd\n",
    "import numpy as np\n",
    "from src.utils.notebook_setup import setup_notebook_environment\n",
    "dbs, logger = await setup_notebook_environment()\n",
    "\n",
    "# Now ready to work\n",
    "logger.info(\"Starting data ingestion...\")\n"
   ]
  },
  {
   "cell_type": "code",
   "execution_count": 2,
   "id": "61d80bd6",
   "metadata": {},
   "outputs": [
    {
     "name": "stderr",
     "output_type": "stream",
     "text": [
      "2025-07-25 18:27:49,069 - api.services.database_service - INFO - Inserted 920 records into Bronze layer\n",
      "2025-07-25 18:27:49,117 - src.utils.notebook_setup - INFO -                         _id  id  age     sex    dataset               cp  \\\n",
      "0  6883eca61a6b29690a5b3e9f   1   63    Male  Cleveland   typical angina   \n",
      "1  6883eca61a6b29690a5b3ea0   2   67    Male  Cleveland     asymptomatic   \n",
      "2  6883eca61a6b29690a5b3ea1   3   67    Male  Cleveland     asymptomatic   \n",
      "3  6883eca61a6b29690a5b3ea2   4   37    Male  Cleveland      non-anginal   \n",
      "4  6883eca61a6b29690a5b3ea3   5   41  Female  Cleveland  atypical angina   \n",
      "\n",
      "   trestbps   chol    fbs         restecg  thalch  exang  oldpeak  \\\n",
      "0     145.0  233.0   True  lv hypertrophy   150.0  False      2.3   \n",
      "1     160.0  286.0  False  lv hypertrophy   108.0   True      1.5   \n",
      "2     120.0  229.0  False  lv hypertrophy   129.0   True      2.6   \n",
      "3     130.0  250.0  False          normal   187.0  False      3.5   \n",
      "4     130.0  204.0  False  lv hypertrophy   172.0  False      1.4   \n",
      "\n",
      "         slope   ca               thal  num  \n",
      "0  downsloping  0.0       fixed defect    0  \n",
      "1         flat  3.0             normal    2  \n",
      "2         flat  2.0  reversable defect    1  \n",
      "3  downsloping  0.0             normal    0  \n",
      "4    upsloping  0.0             normal    0  \n",
      "2025-07-25 18:27:49,135 - src.utils.notebook_setup - INFO - ============================================================\n",
      "2025-07-25 18:27:49,137 - src.utils.notebook_setup - INFO - BRONZE LAYER DATA SUMMARY\n",
      "2025-07-25 18:27:49,138 - src.utils.notebook_setup - INFO - ============================================================\n",
      "2025-07-25 18:27:49,139 - src.utils.notebook_setup - INFO - Final dataset shape: (1840, 17)\n",
      "2025-07-25 18:27:49,141 - src.utils.notebook_setup - INFO - Final columns: ['_id', 'id', 'age', 'sex', 'dataset', 'cp', 'trestbps', 'chol', 'fbs', 'restecg', 'thalch', 'exang', 'oldpeak', 'slope', 'ca', 'thal', 'num']\n",
      "2025-07-25 18:27:49,142 - src.utils.notebook_setup - INFO - Saving raw unprocessed data to Bronze layer...\n"
     ]
    }
   ],
   "source": [
    "# Load CSV -> Insert into Bronze layer\n",
    "\n",
    "df = pd.read_csv(\"../data/raw/heart_disease_uci.csv\")\n",
    "\n",
    "logger.debug(df.head())\n",
    "logger.debug(df.shape)\n",
    "logger.debug(df.columns)\n",
    "logger.debug(df.dtypes)\n",
    "logger.debug(df.isnull().sum())\n",
    "\n",
    "# Insert into Bronze layer\n",
    "data_dict = df.to_dict(\"records\")\n",
    "success = await dbs.insert_bronze_data(data_dict)\n",
    "\n",
    "bronze_data = await dbs.get_bronze_data()\n",
    "bronze_data_df = pd.DataFrame(bronze_data)\n",
    "logger.info(bronze_data_df.head())\n",
    "\n",
    "logger.info(\"=\" * 60)\n",
    "logger.info(\"BRONZE LAYER DATA SUMMARY\")\n",
    "logger.info(\"=\" * 60)\n",
    "logger.info(f\"Final dataset shape: {bronze_data_df.shape}\")\n",
    "# Show final columns\n",
    "logger.info(f\"Final columns: {list(bronze_data_df.columns)}\")\n",
    "\n",
    "# Save to Bronze collection in MongoDB\n",
    "logger.info(\"Saving raw unprocessed data to Bronze layer...\")\n"
   ]
  }
 ],
 "metadata": {
  "kernelspec": {
   "display_name": "venv",
   "language": "python",
   "name": "python3"
  },
  "language_info": {
   "codemirror_mode": {
    "name": "ipython",
    "version": 3
   },
   "file_extension": ".py",
   "mimetype": "text/x-python",
   "name": "python",
   "nbconvert_exporter": "python",
   "pygments_lexer": "ipython3",
   "version": "3.10.12"
  }
 },
 "nbformat": 4,
 "nbformat_minor": 5
}
