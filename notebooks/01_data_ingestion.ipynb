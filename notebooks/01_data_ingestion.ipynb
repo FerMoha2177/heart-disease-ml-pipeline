{
 "cells": [
  {
   "cell_type": "code",
   "execution_count": null,
   "id": "ea7535dd",
   "metadata": {},
   "outputs": [],
   "source": [
    "# Quick setup\n",
    "import sys\n",
    "import pandas as pd\n",
    "import numpy as np\n",
    "from src.utils.notebook_setup import setup_notebook_environment\n",
    "dbs, logger = await setup_notebook_environment()\n",
    "\n",
    "# Now ready to work\n",
    "logger.info(\"Starting data ingestion...\")\n"
   ]
  },
  {
   "cell_type": "code",
   "execution_count": null,
   "id": "61d80bd6",
   "metadata": {},
   "outputs": [],
   "source": [
    "# Load CSV -> Insert into Bronze layer\n",
    "\n",
    "df = pd.read_csv(\"../data/raw/heart_disease_uci.csv\")\n",
    "\n",
    "logger.debug(df.head())\n",
    "logger.debug(df.shape)\n",
    "logger.debug(df.columns)\n",
    "logger.debug(df.dtypes)\n",
    "logger.debug(df.isnull().sum())\n",
    "\n",
    "# Insert into Bronze layer\n",
    "data_dict = df.to_dict(\"records\")\n",
    "success = await dbs.insert_bronze_data(data_dict)\n",
    "\n",
    "bronze_data = await dbs.get_bronze_data()\n",
    "bronze_data_df = pd.DataFrame(bronze_data)\n",
    "logger.info(bronze_data_df.head())\n",
    "\n",
    "logger.info(\"=\" * 60)\n",
    "logger.info(\"BRONZE LAYER DATA SUMMARY\")\n",
    "logger.info(\"=\" * 60)\n",
    "logger.info(f\"Final dataset shape: {bronze_data_df.shape}\")\n",
    "# Show final columns\n",
    "logger.info(f\"Final columns: {list(bronze_data_df.columns)}\")\n",
    "\n",
    "# Save to Bronze collection in MongoDB\n",
    "logger.info(\"Saving raw unprocessed data to Bronze layer...\")\n"
   ]
  }
 ],
 "metadata": {
  "kernelspec": {
   "display_name": "venv",
   "language": "python",
   "name": "python3"
  },
  "language_info": {
   "codemirror_mode": {
    "name": "ipython",
    "version": 3
   },
   "file_extension": ".py",
   "mimetype": "text/x-python",
   "name": "python",
   "nbconvert_exporter": "python",
   "pygments_lexer": "ipython3",
   "version": "3.10.12"
  }
 },
 "nbformat": 4,
 "nbformat_minor": 5
}
